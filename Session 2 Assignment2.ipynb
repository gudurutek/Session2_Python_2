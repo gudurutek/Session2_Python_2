{
 "cells": [
  {
   "cell_type": "markdown",
   "metadata": {},
   "source": [
    "1.  Write a program which accepts a sequence of comma-separated numbers from console and generate a list. "
   ]
  },
  {
   "cell_type": "code",
   "execution_count": 4,
   "metadata": {},
   "outputs": [
    {
     "name": "stdout",
     "output_type": "stream",
     "text": [
      "Input some comma seprated numbers : 12,23,34,45,56\n",
      "Comma_Sep_List :  ['12', '23', '34', '45', '56']\n"
     ]
    }
   ],
   "source": [
    "InputNumbers = input(\"Input some comma seprated numbers : \")\n",
    "Sep_List =InputNumbers.split(\",\")\n",
    "print('Comma_Sep_List : ',Sep_List)"
   ]
  },
  {
   "cell_type": "markdown",
   "metadata": {},
   "source": [
    "2.  Create the below pattern using nested for loop in Python. "
   ]
  },
  {
   "cell_type": "code",
   "execution_count": 6,
   "metadata": {},
   "outputs": [
    {
     "name": "stdout",
     "output_type": "stream",
     "text": [
      "Program to print star pattern: \n",
      "\n",
      "Enter max star to be display on single line5\n",
      "* \n",
      "* * \n",
      "* * * \n",
      "* * * * \n",
      "* * * * * \n",
      "* * * * \n",
      "* * * \n",
      "* * \n",
      "* \n",
      "\n"
     ]
    }
   ],
   "source": [
    "print(\"Program to print star pattern: \\n\");\n",
    "rows = input(\"Enter max star to be display on single line\")\n",
    "rows = int (rows)\n",
    "for i in range (0, rows):\n",
    "    for j in range(0, i + 1):\n",
    "        print(\"*\", end=' ')\n",
    "    print(\"\\r\")\n",
    "for i in range (rows, 0, -1):\n",
    "    for j in range(0, i -1):\n",
    "        print(\"*\", end=' ')\n",
    "    print(\"\\r\")"
   ]
  },
  {
   "cell_type": "markdown",
   "metadata": {},
   "source": [
    "3.  Write a Python program to reverse a word after accepting the input from the user. "
   ]
  },
  {
   "cell_type": "code",
   "execution_count": 7,
   "metadata": {},
   "outputs": [
    {
     "name": "stdout",
     "output_type": "stream",
     "text": [
      "Enter the string:AcadGild \n",
      " ldiGdacA\n",
      "Enter the string:jyothi\n",
      "ihtoyj\n"
     ]
    }
   ],
   "source": [
    "def Acadstring(string):\n",
    "    Acad_Mod = string[::-1]\n",
    "    New_string=Acad_Mod[:1]+Acad_Mod[2]+Acad_Mod[1]+Acad_Mod[3:]\n",
    "    print(New_string)\n",
    "string = input(\"Enter the string:\")\n",
    "Acadstring(string)\n",
    "\n",
    "def reversed(string):\n",
    "    reversed_string = string[::-1]\n",
    "    print(reversed_string)\n",
    "string = input(\"Enter the string:\")\n",
    "reversed(string)"
   ]
  },
  {
   "cell_type": "markdown",
   "metadata": {},
   "source": [
    " 4.  Write a Python Program to print the given string in the format specified in the sample output\n",
    "    WE, THE PEOPLE OF INDIA, having solemnly resolved to constitute India into a SOVEREIGN, \n",
    "    SOCIALIST, SECULAR, DEMOCRATIC REPUBLIC and to secure to all its citizens\n",
    "    \n",
    "    Sample Output: \n",
    " \n",
    "    WE, THE PEOPLE OF INDIA,   \n",
    "            having solemnly resolved to constitute India into a SOVEREIGN, !  \n",
    "                    SOCIALIST, SECULAR, DEMOCRATIC REPUBLIC \n",
    "                        and to secure to all its citizen"
   ]
  },
  {
   "cell_type": "code",
   "execution_count": 5,
   "metadata": {},
   "outputs": [
    {
     "name": "stdout",
     "output_type": "stream",
     "text": [
      "WE, THE PEOPLE OF INDIA,\n",
      "\thaving solemnly resolved to constitute India into a SOVEREIGN,!\n",
      "\t\tSOCIALIST, SECULAR, DEMOCRATIC REPUBLIC\n",
      "\t\tand to secure to all its citizens\n"
     ]
    }
   ],
   "source": [
    "Constitution_Preamble = \"WE, THE PEOPLE OF INDIA,{}having solemnly resolved to constitute India into a SOVEREIGN,{}SOCIALIST, SECULAR, DEMOCRATIC REPUBLIC{}and to secure to all its citizens{}\"\n",
    "print(Constitution_Preamble.format('\\n\\t','!\\n\\t\\t','\\n\\t\\t',''))"
   ]
  }
 ],
 "metadata": {
  "kernelspec": {
   "display_name": "Python 3",
   "language": "python",
   "name": "python3"
  },
  "language_info": {
   "codemirror_mode": {
    "name": "ipython",
    "version": 3
   },
   "file_extension": ".py",
   "mimetype": "text/x-python",
   "name": "python",
   "nbconvert_exporter": "python",
   "pygments_lexer": "ipython3",
   "version": "3.6.7"
  }
 },
 "nbformat": 4,
 "nbformat_minor": 2
}
